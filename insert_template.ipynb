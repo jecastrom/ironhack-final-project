{
 "cells": [
  {
   "cell_type": "code",
   "execution_count": 10,
   "id": "35024783-1fe7-4ab3-9ad9-bbd2ba6e94ff",
   "metadata": {},
   "outputs": [
    {
     "name": "stdout",
     "output_type": "stream",
     "text": [
      "{\"InvoiceNo\":536365,\"StockCode\":\"85123A\",\"Description\":\"WHITE HANGING HEART T-LIGHT HOLDER\",\"Quantity\":6,\"InvoiceDate\":\"12\\/1\\/2010 8:26\",\"UnitPrice\":2.55,\"CustomerID\":17850,\"Country\":\"United Kingdom\"}\n",
      "<Response [200]>\n",
      "{\"InvoiceNo\":536365,\"StockCode\":\"71053\",\"Description\":\"WHITE METAL LANTERN\",\"Quantity\":6,\"InvoiceDate\":\"12\\/1\\/2010 8:26\",\"UnitPrice\":3.39,\"CustomerID\":17850,\"Country\":\"United Kingdom\"}\n",
      "<Response [200]>\n",
      "{\"InvoiceNo\":536365,\"StockCode\":\"84406B\",\"Description\":\"CREAM CUPID HEARTS COAT HANGER\",\"Quantity\":8,\"InvoiceDate\":\"12\\/1\\/2010 8:26\",\"UnitPrice\":2.75,\"CustomerID\":17850,\"Country\":\"United Kingdom\"}\n",
      "<Response [200]>\n",
      "{\"InvoiceNo\":536365,\"StockCode\":\"84029G\",\"Description\":\"KNITTED UNION FLAG HOT WATER BOTTLE\",\"Quantity\":6,\"InvoiceDate\":\"12\\/1\\/2010 8:26\",\"UnitPrice\":3.39,\"CustomerID\":17850,\"Country\":\"United Kingdom\"}\n",
      "<Response [200]>\n",
      "{\"InvoiceNo\":536365,\"StockCode\":\"84029E\",\"Description\":\"RED WOOLLY HOTTIE WHITE HEART.\",\"Quantity\":6,\"InvoiceDate\":\"12\\/1\\/2010 8:26\",\"UnitPrice\":3.39,\"CustomerID\":17850,\"Country\":\"United Kingdom\"}\n",
      "<Response [200]>\n"
     ]
    }
   ],
   "source": [
    "import pandas as pd\n",
    "import requests\n",
    "\n",
    "\n",
    "# URL of our endpoint\n",
    "URL = \"https://xyy7qu6i5h.execute-api.us-east-1.amazonaws.com/p/hello\"\n",
    "\n",
    "\n",
    "# read the testfile\n",
    "data = pd.read_csv('data/TestSample.csv', sep=',')\n",
    "\n",
    "# write a single row from the testfile into the api\n",
    "#export = data.loc[2].to_json()\n",
    "#response = requests.post(URL, data = export)\n",
    "# print(response)\n",
    "\n",
    "# write all the rows from the testfile to the api as put request\n",
    "for i in data.index:\n",
    "    try:\n",
    "        # convert the row to json\n",
    "        export = data.loc[i].to_json()\n",
    "\n",
    "        # send it to the api\n",
    "        response = requests.post(URL, data=export)\n",
    "\n",
    "        # print the returncode\n",
    "        print(export)\n",
    "        print(response)\n",
    "    except:\n",
    "        print(data.loc[i])\n"
   ]
  },
  {
   "cell_type": "code",
   "execution_count": null,
   "id": "9371a1c5-2eb1-4df4-9cd0-d0fc7792d827",
   "metadata": {},
   "outputs": [],
   "source": [
    "\n"
   ]
  },
  {
   "cell_type": "code",
   "execution_count": null,
   "id": "30e228fb-2b29-4f1b-88c8-8666f174b537",
   "metadata": {},
   "outputs": [],
   "source": []
  }
 ],
 "metadata": {
  "kernelspec": {
   "display_name": "Python 3 (ipykernel)",
   "language": "python",
   "name": "python3"
  },
  "language_info": {
   "codemirror_mode": {
    "name": "ipython",
    "version": 3
   },
   "file_extension": ".py",
   "mimetype": "text/x-python",
   "name": "python",
   "nbconvert_exporter": "python",
   "pygments_lexer": "ipython3",
   "version": "3.8.12"
  }
 },
 "nbformat": 4,
 "nbformat_minor": 5
}
