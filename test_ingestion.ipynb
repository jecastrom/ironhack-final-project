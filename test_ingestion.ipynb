{
 "cells": [
  {
   "cell_type": "code",
   "execution_count": 1,
   "id": "215fad7c-f25e-43d4-9ae0-ab5b90dc8d30",
   "metadata": {},
   "outputs": [],
   "source": [
    "import pandas as pd\n",
    "import requests\n",
    "\n",
    "\n",
    "# URL of our endpoint\n",
    "URL = \"https://2krjwwbp8d.execute-api.us-east-1.amazonaws.com/prod/hello\"\n",
    "\n",
    "\n",
    "# read the testfile\n",
    "data = pd.read_csv('data/data1000.csv', sep=',')"
   ]
  },
  {
   "cell_type": "code",
   "execution_count": null,
   "id": "e6759c3a-e39e-4d03-b18c-b73717c5b01d",
   "metadata": {},
   "outputs": [],
   "source": []
  },
  {
   "cell_type": "code",
   "execution_count": null,
   "id": "73b0112a-f2b1-4ff5-a0b5-2694fffc3d64",
   "metadata": {},
   "outputs": [],
   "source": []
  },
  {
   "cell_type": "code",
   "execution_count": null,
   "id": "dba2a297-5651-4c66-9139-c35d68e90d30",
   "metadata": {},
   "outputs": [],
   "source": [
    "\n",
    "# write a single row from the testfile into the api\n",
    "#export = data.loc[2].to_json()\n",
    "#response = requests.post(URL, data = export)\n",
    "# print(response)\n",
    "\n",
    "# write all the rows from the testfile to the api as put request\n",
    "for i in data.index:\n",
    "    try:\n",
    "        # convert the row to json\n",
    "        export = data.loc[i].to_json()\n",
    "\n",
    "        # send it to the api\n",
    "        response = requests.post(URL, data=export)\n",
    "\n",
    "        # print the returncode\n",
    "        print(export)\n",
    "        print(response)\n",
    "    except:\n",
    "        print(data.loc[i])\n"
   ]
  }
 ],
 "metadata": {
  "kernelspec": {
   "display_name": "Python 3 (ipykernel)",
   "language": "python",
   "name": "python3"
  },
  "language_info": {
   "codemirror_mode": {
    "name": "ipython",
    "version": 3
   },
   "file_extension": ".py",
   "mimetype": "text/x-python",
   "name": "python",
   "nbconvert_exporter": "python",
   "pygments_lexer": "ipython3",
   "version": "3.8.12"
  }
 },
 "nbformat": 4,
 "nbformat_minor": 5
}
